{
 "cells": [
  {
   "cell_type": "markdown",
   "metadata": {},
   "source": [
    "<p>Cоздайте объект Series, связав его с переменной school , и наполните данными, которые бы отражали количество учащихся в разных классах (1а, 1б, 2б, 6а, 7в и т. п.).</p> \n",
    "<p>Внесите изменения в объект Series согласно следующему:</p> \n",
    "<ol>\n",
    "    <li>в одном из классов изменилось количество учащихся, \n",
    "    <li>в школе появился новый класс, \n",
    "    <li>в школе был расформирован (удален) другой класс.\n",
    "</ol>\n",
    "<p>Вычислите общее количество учащихся в школе.</p>\n"
   ]
  },
  {
   "cell_type": "code",
   "execution_count": 36,
   "metadata": {},
   "outputs": [],
   "source": [
    "import pandas as pd\n",
    "import numpy as np"
   ]
  },
  {
   "cell_type": "code",
   "execution_count": 37,
   "metadata": {},
   "outputs": [
    {
     "name": "stdout",
     "output_type": "stream",
     "text": [
      "classes\n",
      "1а    19\n",
      "1б    18\n",
      "2б    21\n",
      "6а    16\n",
      "7в    15\n",
      "11     6\n",
      "dtype: int64\n"
     ]
    }
   ],
   "source": [
    "school = {'1а':19, '1б':18, '2б':21,'6а':16, '7в':15, '11':6}\n",
    "school_ser = pd.Series(school)\n",
    "school_ser.index.name = 'classes'\n",
    "print(school_ser)"
   ]
  },
  {
   "cell_type": "markdown",
   "metadata": {},
   "source": [
    "<p><b>1.</b> В класс 2б добавили трех учеников</p>"
   ]
  },
  {
   "cell_type": "code",
   "execution_count": 38,
   "metadata": {},
   "outputs": [
    {
     "name": "stdout",
     "output_type": "stream",
     "text": [
      "classes\n",
      "1а    19\n",
      "1б    18\n",
      "2б    24\n",
      "6а    16\n",
      "7в    15\n",
      "11     6\n",
      "dtype: int64\n"
     ]
    }
   ],
   "source": [
    "school_ser['2б'] += 3\n",
    "print(school_ser)"
   ]
  },
  {
   "cell_type": "markdown",
   "metadata": {},
   "source": [
    "<p><b>2.</b> В школе появился новый 8а класс</p>"
   ]
  },
  {
   "cell_type": "code",
   "execution_count": 39,
   "metadata": {},
   "outputs": [
    {
     "name": "stdout",
     "output_type": "stream",
     "text": [
      "1а    19\n",
      "1б    18\n",
      "2б    24\n",
      "6а    16\n",
      "7в    15\n",
      "11     6\n",
      "8а    17\n",
      "dtype: int64\n"
     ]
    }
   ],
   "source": [
    "school_ser = school_ser.append(pd.Series({'8а':17}))\n",
    "print(school_ser)"
   ]
  },
  {
   "cell_type": "markdown",
   "metadata": {},
   "source": [
    "<p><b>3.</b> В школе был расформирован 11 класс, так как было мало людей</p>"
   ]
  },
  {
   "cell_type": "code",
   "execution_count": 40,
   "metadata": {},
   "outputs": [
    {
     "name": "stdout",
     "output_type": "stream",
     "text": [
      "1а    19\n",
      "1б    18\n",
      "2б    24\n",
      "6а    16\n",
      "7в    15\n",
      "8а    17\n",
      "dtype: int64\n"
     ]
    }
   ],
   "source": [
    "del school_ser['11']\n",
    "print(school_ser)"
   ]
  },
  {
   "cell_type": "markdown",
   "metadata": {},
   "source": [
    "Общее количество учащихся в школе"
   ]
  },
  {
   "cell_type": "code",
   "execution_count": 41,
   "metadata": {},
   "outputs": [
    {
     "name": "stdout",
     "output_type": "stream",
     "text": [
      "109\n"
     ]
    }
   ],
   "source": [
    "print(school_ser.sum())"
   ]
  },
  {
   "cell_type": "code",
   "execution_count": null,
   "metadata": {},
   "outputs": [],
   "source": []
  }
 ],
 "metadata": {
  "kernelspec": {
   "display_name": "Python 3",
   "language": "python",
   "name": "python3"
  },
  "language_info": {
   "codemirror_mode": {
    "name": "ipython",
    "version": 3
   },
   "file_extension": ".py",
   "mimetype": "text/x-python",
   "name": "python",
   "nbconvert_exporter": "python",
   "pygments_lexer": "ipython3",
   "version": "3.8.3"
  }
 },
 "nbformat": 4,
 "nbformat_minor": 4
}
